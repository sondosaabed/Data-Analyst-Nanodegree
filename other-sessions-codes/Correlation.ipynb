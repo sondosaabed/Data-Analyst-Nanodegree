{
  "nbformat": 4,
  "nbformat_minor": 0,
  "metadata": {
    "colab": {
      "provenance": []
    },
    "kernelspec": {
      "name": "python3",
      "display_name": "Python 3"
    },
    "language_info": {
      "name": "python"
    }
  },
  "cells": [
    {
      "cell_type": "markdown",
      "source": [
        "# Example: Calculating Correlation with NumPy"
      ],
      "metadata": {
        "id": "thGXrxGuArsA"
      }
    },
    {
      "cell_type": "markdown",
      "source": [
        "## Import NumPy:\n",
        "\n"
      ],
      "metadata": {
        "id": "GG4Hryw2A0GG"
      }
    },
    {
      "cell_type": "code",
      "execution_count": null,
      "metadata": {
        "id": "bFMMoP6BAlo7"
      },
      "outputs": [],
      "source": [
        "import numpy as np\n"
      ]
    },
    {
      "cell_type": "markdown",
      "source": [
        "## Define the Datasets:\n",
        "\n"
      ],
      "metadata": {
        "id": "kqHNUTzZA2Lc"
      }
    },
    {
      "cell_type": "code",
      "source": [
        "hours_studied = np.array([1, 2, 3, 4, 5])\n",
        "test_scores = np.array([50, 55, 65, 70, 80])\n"
      ],
      "metadata": {
        "id": "mIUI6F8WAu4G"
      },
      "execution_count": null,
      "outputs": []
    },
    {
      "cell_type": "markdown",
      "source": [
        "# Calculate the Correlation Coefficient:\n",
        "\n"
      ],
      "metadata": {
        "id": "ScewcOGjA7FY"
      }
    },
    {
      "cell_type": "code",
      "source": [
        "correlation_coefficient = np.corrcoef(hours_studied, test_scores)[0, 1]\n"
      ],
      "metadata": {
        "id": "uDFJwDh-AxmG"
      },
      "execution_count": null,
      "outputs": []
    },
    {
      "cell_type": "markdown",
      "source": [
        "Here’s how `np.corrcoef` works:\n",
        "\n",
        "-   It computes the Pearson correlation coefficient matrix of the input arrays.\n",
        "-   `[0, 1]` selects the correlation coefficient between `hours_studied` and `test_scores`."
      ],
      "metadata": {
        "id": "W8fYU0jmBBz7"
      }
    },
    {
      "cell_type": "markdown",
      "source": [
        "## Print the Result:\n",
        "\n"
      ],
      "metadata": {
        "id": "pu2E3HzZBGl0"
      }
    },
    {
      "cell_type": "code",
      "source": [
        "print(f\"Correlation Coefficient: {correlation_coefficient:.2f}\")\n"
      ],
      "metadata": {
        "colab": {
          "base_uri": "https://localhost:8080/"
        },
        "id": "VIGH_xlPBECC",
        "outputId": "9922e5be-e1fe-4983-f4bd-49abe9e1d357"
      },
      "execution_count": null,
      "outputs": [
        {
          "output_type": "stream",
          "name": "stdout",
          "text": [
            "Correlation Coefficient: 0.99\n"
          ]
        }
      ]
    },
    {
      "cell_type": "markdown",
      "source": [
        "#### **Explanation**\n",
        "\n",
        "-   The correlation coefficient ranges from -1 to 1.\n",
        "    \n",
        "    -   **1** indicates a perfect positive correlation.\n",
        "    -   **-1** indicates a perfect negative correlation.\n",
        "    -   **0** indicates no correlation.\n",
        "-   In our example, a correlation coefficient of 0.97 suggests a very strong positive relationship between hours studied and test scores."
      ],
      "metadata": {
        "id": "eS9CKJ6YBRn-"
      }
    },
    {
      "cell_type": "markdown",
      "source": [
        "# Example: Calculating Correlation with SciPy\n"
      ],
      "metadata": {
        "id": "t4FzeHP6BeyR"
      }
    },
    {
      "cell_type": "markdown",
      "source": [
        "\n",
        "Let’s use the same datasets as before: the number of hours studied and the corresponding test scores.\n",
        "\n",
        "#### **Step-by-Step Calculation**\n",
        "\n",
        "1. Use the same arrays"
      ],
      "metadata": {
        "id": "hAF5_ZjQBiqJ"
      }
    },
    {
      "cell_type": "code",
      "source": [
        "from scipy import stats"
      ],
      "metadata": {
        "id": "TGonekQ9B2_E"
      },
      "execution_count": null,
      "outputs": []
    },
    {
      "cell_type": "code",
      "source": [
        "pearson_corr, _ = stats.pearsonr(hours_studied, test_scores)\n"
      ],
      "metadata": {
        "id": "crpxEMh-BSI7"
      },
      "execution_count": null,
      "outputs": []
    },
    {
      "cell_type": "markdown",
      "source": [
        "Here’s how `stats.pearsonr` works:\n",
        "\n",
        "-   It computes the Pearson correlation coefficient and the p-value for testing non-correlation.\n",
        "-   The first value returned is the correlation coefficient, and the second is the p-value."
      ],
      "metadata": {
        "id": "tWbJ57WGBtcj"
      }
    },
    {
      "cell_type": "code",
      "source": [
        "print(f\"Pearson Correlation Coefficient: {pearson_corr:.2f}\")\n"
      ],
      "metadata": {
        "colab": {
          "base_uri": "https://localhost:8080/"
        },
        "id": "jD8gtKiLBs1D",
        "outputId": "79b283c4-7823-4966-b183-60f5d855d9de"
      },
      "execution_count": null,
      "outputs": [
        {
          "output_type": "stream",
          "name": "stdout",
          "text": [
            "Pearson Correlation Coefficient: 0.99\n"
          ]
        }
      ]
    },
    {
      "cell_type": "markdown",
      "source": [
        "\n",
        "**Calculate Other Types of Correlations**\n",
        "\n",
        "For example, Spearman’s rank correlation can be calculated as follows:"
      ],
      "metadata": {
        "id": "y43HLMTMB-gK"
      }
    },
    {
      "cell_type": "code",
      "source": [
        "spearman_corr, _ = stats.spearmanr(hours_studied, test_scores)\n",
        "print(f\"Spearman Rank Correlation Coefficient: {spearman_corr:.2f}\")\n"
      ],
      "metadata": {
        "colab": {
          "base_uri": "https://localhost:8080/"
        },
        "id": "naQl3yy-B-8o",
        "outputId": "11725088-5a29-498d-8a79-f6939709d065"
      },
      "execution_count": null,
      "outputs": [
        {
          "output_type": "stream",
          "name": "stdout",
          "text": [
            "Spearman Rank Correlation Coefficient: 1.00\n"
          ]
        }
      ]
    },
    {
      "cell_type": "code",
      "source": [
        "# Calculate Kendall’s Tau correlation coefficient\n",
        "kendall_tau, _ = stats.kendalltau(hours_studied, test_scores)"
      ],
      "metadata": {
        "id": "HEzIPOUKCSjs"
      },
      "execution_count": null,
      "outputs": []
    },
    {
      "cell_type": "code",
      "source": [
        "# Print the result\n",
        "print(f\"Kendall’s Tau Correlation Coefficient: {kendall_tau:.2f}\")"
      ],
      "metadata": {
        "colab": {
          "base_uri": "https://localhost:8080/"
        },
        "id": "uZJN5Hf1CVMy",
        "outputId": "9976c294-2700-420c-d915-540008507066"
      },
      "execution_count": null,
      "outputs": [
        {
          "output_type": "stream",
          "name": "stdout",
          "text": [
            "Kendall’s Tau Correlation Coefficient: 1.00\n"
          ]
        }
      ]
    },
    {
      "cell_type": "markdown",
      "source": [
        "\n",
        "#### **Explanation**\n",
        "\n",
        "-   **Pearson Correlation Coefficient:** Measures the linear relationship between two datasets. It is sensitive to outliers.\n",
        "-   **Spearman Rank Correlation Coefficient:** Measures the monotonic relationship between two datasets. It is less sensitive to outliers and non-linear relationships.\n",
        "-   **Kendall’s Tau Correlation Coefficient:** Measures the ordinal association between two variables. It evaluates the strength of the monotonic relationship between the variables.\n",
        "    -   **Value Range:** The coefficient ranges from -1 to 1.\n",
        "        -   **1** indicates a perfect positive association.\n",
        "        -   **-1** indicates a perfect negative association.\n",
        "        -   **0** indicates no association.\n",
        "\n",
        "Kendall's tau is often preferred over Pearson's or Spearman's when dealing with ordinal data or when you want a measure less sensitive to outlier\n",
        "\n",
        "This example illustrates how to use SciPy to compute different types of correlation coefficients and provides insight into the relationship between datasets."
      ],
      "metadata": {
        "id": "8CVt-MoFCElu"
      }
    },
    {
      "cell_type": "markdown",
      "source": [
        "\n",
        "### **Example: Calculating Correlation with Pandas**\n",
        "\n",
        "Let’s use the same datasets: hours studied and test scores.\n",
        "\n",
        "#### **Step-by-Step Calculation**\n",
        "\n",
        "1.  **Import the Necessary Libraries:**"
      ],
      "metadata": {
        "id": "8FnZYrx8CkP8"
      }
    },
    {
      "cell_type": "code",
      "source": [
        "import pandas as pd\n"
      ],
      "metadata": {
        "id": "aLAa_blXCFSA"
      },
      "execution_count": null,
      "outputs": []
    },
    {
      "cell_type": "markdown",
      "source": [
        "## Create a DataFrame with the Datasets:\n",
        "\n"
      ],
      "metadata": {
        "id": "iUkzIdklCnHV"
      }
    },
    {
      "cell_type": "code",
      "source": [
        "data = {\n",
        "    'Hours_Studied': [1, 2, 3, 4, 5],\n",
        "    'Test_Scores': [50, 55, 65, 70, 80]\n",
        "}\n",
        "df = pd.DataFrame(data)\n"
      ],
      "metadata": {
        "id": "YidpEI6kCpee"
      },
      "execution_count": null,
      "outputs": []
    },
    {
      "cell_type": "markdown",
      "source": [
        "## Calculate the Pearson Correlation Coefficient:\n",
        "\n"
      ],
      "metadata": {
        "id": "jButMgmACrJR"
      }
    },
    {
      "cell_type": "code",
      "source": [
        "pearson_corr = df.corr(method='pearson')\n",
        "#This computes the Pearson correlation coefficient for all pairs of columns in the DataFrame.\n",
        "\n"
      ],
      "metadata": {
        "id": "4d7qXvjBCtoc"
      },
      "execution_count": null,
      "outputs": []
    },
    {
      "cell_type": "markdown",
      "source": [
        "# Print the Pearson Correlation Matrix:\n",
        "\n"
      ],
      "metadata": {
        "id": "3gw92K5oCxFH"
      }
    },
    {
      "cell_type": "code",
      "source": [
        "print(\"Pearson Correlation Matrix:\")\n",
        "print(pearson_corr)\n"
      ],
      "metadata": {
        "colab": {
          "base_uri": "https://localhost:8080/"
        },
        "id": "k8_08ULKCzHs",
        "outputId": "b17052dd-a457-44b8-9608-e8901f1d10c4"
      },
      "execution_count": null,
      "outputs": [
        {
          "output_type": "stream",
          "name": "stdout",
          "text": [
            "Pearson Correlation Matrix:\n",
            "               Hours_Studied  Test_Scores\n",
            "Hours_Studied       1.000000     0.993399\n",
            "Test_Scores         0.993399     1.000000\n"
          ]
        }
      ]
    },
    {
      "cell_type": "markdown",
      "source": [
        "## Calculate Other Types of Correlation (Spearman and Kendall):\n",
        "\n"
      ],
      "metadata": {
        "id": "y9Wm_QmcC2ML"
      }
    },
    {
      "cell_type": "code",
      "source": [
        "spearman_corr = df.corr(method='spearman')\n",
        "kendall_corr = df.corr(method='kendall')\n",
        "\n",
        "print(\"\\nSpearman Correlation Matrix:\")\n",
        "print(spearman_corr)\n",
        "\n",
        "print(\"\\nKendall Correlation Matrix:\")\n",
        "print(kendall_corr)\n"
      ],
      "metadata": {
        "colab": {
          "base_uri": "https://localhost:8080/"
        },
        "id": "z4TAhNaBC4CP",
        "outputId": "6893a2d8-e241-49fb-8d3a-2c9980fd12f9"
      },
      "execution_count": null,
      "outputs": [
        {
          "output_type": "stream",
          "name": "stdout",
          "text": [
            "\n",
            "Spearman Correlation Matrix:\n",
            "               Hours_Studied  Test_Scores\n",
            "Hours_Studied            1.0          1.0\n",
            "Test_Scores              1.0          1.0\n",
            "\n",
            "Kendall Correlation Matrix:\n",
            "               Hours_Studied  Test_Scores\n",
            "Hours_Studied            1.0          1.0\n",
            "Test_Scores              1.0          1.0\n"
          ]
        }
      ]
    },
    {
      "cell_type": "markdown",
      "source": [
        "#### **Explanation**\n",
        "\n",
        "-   **Pearson Correlation Coefficient:** Measures linear relationships.\n",
        "-   **Spearman Rank Correlation Coefficient:** Measures monotonic relationships.\n",
        "-   **Kendall’s Tau Correlation Coefficient:** Measures ordinal associations.\n",
        "\n",
        "Pandas makes it easy to compute these correlations and visualize how different variables in your dataset relate to one another."
      ],
      "metadata": {
        "id": "4wSdNrzyC8SI"
      }
    }
  ]
}