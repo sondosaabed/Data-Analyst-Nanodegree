{
 "cells": [
  {
   "cell_type": "markdown",
   "metadata": {},
   "source": [
    "<div align=\"center\">\n",
    "\n",
    "# Virtual Environment using venv\n",
    "Introducing the virtual environments of Python\n",
    "</div>"
   ]
  },
  {
   "cell_type": "markdown",
   "metadata": {},
   "source": [
    "<hr>"
   ]
  },
  {
   "cell_type": "markdown",
   "metadata": {},
   "source": [
    "<img src=\"https://github.com/sondosaabed/SP.TOP-Data-Science-and-Analytics/assets/65151701/bdf4cd98-474c-4238-b705-4aa01746fccd\" width=\"100%\" alt=\"Virtual Environments\">"
   ]
  },
  {
   "cell_type": "markdown",
   "metadata": {},
   "source": [
    "## Objectives\n",
    "- To learn the concept of virtual environment\n",
    "- Discuss benfits\n",
    "- To create a virtual environment"
   ]
  },
  {
   "cell_type": "markdown",
   "metadata": {},
   "source": [
    "<hr>"
   ]
  },
  {
   "cell_type": "markdown",
   "metadata": {},
   "source": [
    "## Scenario\n",
    "- you're a budding software developer working on a new project—a web application that helps users write notes.\n",
    "- you installed some essential libraries and packages to get your project up and running. \n",
    "- Everything works perfectly on your computer. \n",
    "- you share your project with a friend, who tries to run it on their machine only to be met with a slew of errors. \n",
    "- After hours of troubleshooting, you realize that your friend's machine has different versions of the same libraries, causing the application to break.\n",
    "- Or you update some libraries and your code no longer is running."
   ]
  },
  {
   "cell_type": "markdown",
   "metadata": {},
   "source": [
    "<hr>"
   ]
  },
  {
   "cell_type": "markdown",
   "metadata": {},
   "source": [
    "## Terms"
   ]
  },
  {
   "cell_type": "markdown",
   "metadata": {},
   "source": [
    "- **Environment**: the setting that the software runs on, OS, installed packages, configurations. (conditions that affects the program operation)"
   ]
  },
  {
   "cell_type": "markdown",
   "metadata": {},
   "source": [
    "- **Dependencies**: libraries or packages your project depends on to function correctly. "
   ]
  },
  {
   "cell_type": "markdown",
   "metadata": {},
   "source": [
    "- **Conflicts of dependencies**: two projects depends on different versions of dependencies on the same environment.\n",
    "\n",
    "<img src=\"https://github.com/sondosaabed/Data-Analyst-Nanodegree/assets/65151701/f90d3e50-38b1-402e-8e42-a8b1ec5b5e29\" width=\"50%\" alt=\"Versions\">"
   ]
  },
  {
   "cell_type": "markdown",
   "metadata": {},
   "source": [
    "- **Vitrual Environment**: self-contained, isolated environment for your project. It allows you to manage dependencies separately from other projects. Using a virtual environment, you can install specific versions of libraries required by your project without affecting other projects on your computer. "
   ]
  },
  {
   "cell_type": "markdown",
   "metadata": {},
   "source": [
    "## Benfits"
   ]
  },
  {
   "cell_type": "markdown",
   "metadata": {},
   "source": [
    "- **Isolation**: project-specific without affecting the system-wide python or other virtual environment.\n",
    "- **Reproducibility**: Let's say I'm a tester and a user with specific environment have came aacross issue with my system, so this could be reproduced using virtual environments.\n",
    "- **Dependency Management**: various projects dependencies."
   ]
  },
  {
   "cell_type": "markdown",
   "metadata": {},
   "source": [
    "<img src=\"https://github.com/sondosaabed/SP.TOP-Data-Science-and-Analytics/assets/65151701/08860af7-4375-406b-b052-b93761745f69\" width=\"50%\" alt=\"Virtual Environments example\">"
   ]
  },
  {
   "cell_type": "markdown",
   "metadata": {},
   "source": [
    "### venv installation\n",
    "- venv is included in the Python standard library, no need to install."
   ]
  },
  {
   "cell_type": "markdown",
   "metadata": {},
   "source": [
    "### Creating a virtual environment"
   ]
  },
  {
   "cell_type": "code",
   "execution_count": null,
   "metadata": {},
   "outputs": [],
   "source": [
    "!python -m venv environment_name ## Replace <environment_name> with name"
   ]
  },
  {
   "cell_type": "code",
   "execution_count": null,
   "metadata": {},
   "outputs": [],
   "source": [
    "!python -m venv /path/to/directory ## to create it in a specific directory"
   ]
  },
  {
   "cell_type": "markdown",
   "metadata": {},
   "source": [
    "### Specify Python version"
   ]
  },
  {
   "cell_type": "code",
   "execution_count": null,
   "metadata": {},
   "outputs": [],
   "source": [
    "!python3.9 -m venv environment_name"
   ]
  },
  {
   "cell_type": "markdown",
   "metadata": {},
   "source": [
    "### Activate the virtual environment"
   ]
  },
  {
   "cell_type": "code",
   "execution_count": null,
   "metadata": {},
   "outputs": [],
   "source": [
    "!environment_name\\Scripts\\activate"
   ]
  },
  {
   "cell_type": "markdown",
   "metadata": {},
   "source": [
    "### Deactivate the virtual environment"
   ]
  },
  {
   "cell_type": "code",
   "execution_count": null,
   "metadata": {},
   "outputs": [],
   "source": [
    "!deactivate"
   ]
  },
  {
   "cell_type": "markdown",
   "metadata": {},
   "source": [
    "## Packages installation\n",
    "- Once activated the virtual environment, you can install the dependencies as you wish."
   ]
  },
  {
   "cell_type": "code",
   "execution_count": null,
   "metadata": {},
   "outputs": [],
   "source": [
    "!pip install numpy pandas"
   ]
  },
  {
   "cell_type": "markdown",
   "metadata": {},
   "source": [
    "#### Use one file requirements\n",
    "- We can list requiremnts in a `requirements.txt` file and run the following command:"
   ]
  },
  {
   "cell_type": "code",
   "execution_count": null,
   "metadata": {},
   "outputs": [],
   "source": [
    "!pip install -r requirements.txt"
   ]
  },
  {
   "cell_type": "markdown",
   "metadata": {},
   "source": [
    "## References\n",
    "- [1] https://www.geeksforgeeks.org/create-virtual-environment-using-venv-python/\n",
    "- [2] https://velog.io/@ppssww1202/Virtual-Environment-%EA%B0%80%EC%83%81-%ED%99%98%EA%B2%BD\n",
    "- [3] https://www.youtube.com/watch?v=KxvKCSwlUv8"
   ]
  }
 ],
 "metadata": {
  "language_info": {
   "name": "python"
  }
 },
 "nbformat": 4,
 "nbformat_minor": 2
}
